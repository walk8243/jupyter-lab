{
 "cells": [
  {
   "cell_type": "code",
   "execution_count": 19,
   "id": "82403b2c-7637-44a9-a124-2e9a06b36c13",
   "metadata": {},
   "outputs": [],
   "source": [
    "import json, random"
   ]
  },
  {
   "cell_type": "code",
   "execution_count": 37,
   "id": "bf66cace-aad1-4712-952f-3a195412a5d3",
   "metadata": {},
   "outputs": [],
   "source": [
    "class Sanmoku:\n",
    "    def __init__(self, data):\n",
    "        self.record = []\n",
    "        self.data = data\n",
    "        self.winner = 0\n",
    "\n",
    "    def present(self, num: int, player: int):\n",
    "        if not self.data:\n",
    "            return None\n",
    "    \n",
    "        # win_data = [x for x in self.data if x['result']==player]\n",
    "        # if not win_data:\n",
    "            # return None\n",
    "        # candidates = [x['move'][num-1] for x in win_data]\n",
    "        candidates = [x['move'][num-1] for x in self.data]\n",
    "        return candidates[random.randrange(len(candidates))]\n",
    "\n",
    "    def take_game(self, move: list):\n",
    "        self.data = [x for x in self.data if x['move'][len(self.record)]==move]\n",
    "        self.record.append(move)\n",
    "        \n",
    "    def is_end(self):\n",
    "        if len(self.data) == 1 and len(self.data[0]['move']) == len(self.record):\n",
    "            self.winner = self.data[0]['result']\n",
    "            return True\n",
    "        return False"
   ]
  },
  {
   "cell_type": "code",
   "execution_count": 3,
   "id": "1dbb4b2f-cca0-4dc9-b9a3-14fd9984d810",
   "metadata": {},
   "outputs": [],
   "source": [
    "data = []\n",
    "with open('./data.json', 'r', 10000, 'utf-8') as f:\n",
    "    data = json.load(f)"
   ]
  },
  {
   "cell_type": "code",
   "execution_count": 57,
   "id": "dafe7ae3-56e0-4106-8f72-65557b61906e",
   "metadata": {},
   "outputs": [
    {
     "name": "stdout",
     "output_type": "stream",
     "text": [
      "[{'move': [[2, 2], [2, 3], [1, 2], [3, 2], [3, 3], [1, 1], [3, 1], [1, 3], [2, 1]], 'result': 0}, {'move': [[2, 2], [2, 1], [1, 2], [2, 3], [3, 2]], 'result': 1}, {'move': [[3, 1], [2, 2], [3, 2], [3, 3], [1, 2], [1, 1]], 'result': 2}, {'move': [[2, 3], [2, 2], [2, 1], [1, 1], [1, 2], [3, 3]], 'result': 2}, {'move': [[1, 3], [2, 2], [2, 1], [1, 1], [3, 2], [3, 3]], 'result': 2}, {'move': [[1, 1], [1, 3], [2, 2], [3, 1], [3, 3]], 'result': 1}, {'move': [[1, 2], [3, 3], [2, 2], [2, 3], [1, 3], [1, 1], [3, 1]], 'result': 1}, {'move': [[2, 1], [3, 3], [2, 2], [1, 2], [2, 3]], 'result': 1}, {'move': [[3, 1], [3, 2], [2, 2], [1, 1], [3, 1]], 'result': 1}, {'move': [[3, 2], [2, 1], [3, 1], [2, 3], [3, 3]], 'result': 1}, {'move': [[1, 1], [1, 3], [3, 1], [2, 2], [3, 3], [2, 1], [3, 2]], 'result': 1}]\n",
      "[1, 1]\n",
      "[1, 3]\n",
      "[2, 2]\n",
      "[3, 1]\n",
      "[3, 3]\n",
      "勝者: 先手\n"
     ]
    }
   ],
   "source": [
    "candidate = []\n",
    "sanmoku = Sanmoku(data)\n",
    "print(data)\n",
    "\n",
    "for i in range(1,10):\n",
    "    player = 1 if i%2==1 else 2\n",
    "    candidate = sanmoku.present(i, player)\n",
    "    if candidate is None:\n",
    "        break\n",
    "    print(candidate)\n",
    "    sanmoku.take_game(candidate)\n",
    "    if sanmoku.is_end():\n",
    "        break\n",
    "\n",
    "winner = '先手' if sanmoku.winner==1 else '後手' if sanmoku.winner==2 else '引分'\n",
    "print('勝者: ' + winner)"
   ]
  }
 ],
 "metadata": {
  "kernelspec": {
   "display_name": "Python 3 (ipykernel)",
   "language": "python",
   "name": "python3"
  },
  "language_info": {
   "codemirror_mode": {
    "name": "ipython",
    "version": 3
   },
   "file_extension": ".py",
   "mimetype": "text/x-python",
   "name": "python",
   "nbconvert_exporter": "python",
   "pygments_lexer": "ipython3",
   "version": "3.9.1"
  }
 },
 "nbformat": 4,
 "nbformat_minor": 5
}
