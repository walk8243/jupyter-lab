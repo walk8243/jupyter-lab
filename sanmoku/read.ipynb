{
 "cells": [
  {
   "cell_type": "code",
   "execution_count": 1,
   "id": "9708c9fc-2db5-4753-b37c-a78c75fd0f1d",
   "metadata": {},
   "outputs": [],
   "source": [
    "import json"
   ]
  },
  {
   "cell_type": "code",
   "execution_count": 14,
   "id": "62d39c16-13e3-4f2f-a029-3d4c56263db9",
   "metadata": {},
   "outputs": [
    {
     "name": "stdout",
     "output_type": "stream",
     "text": [
      "[{'move': [[2, 2], [2, 3], [1, 2], [3, 2], [3, 3], [1, 1], [3, 1], [1, 3], [2, 1]], 'result': 0}, {'move': [[2, 2], [2, 1], [1, 2], [2, 3], [3, 2]], 'result': 1}, {'move': [[3, 1], [2, 2], [3, 2], [3, 3], [1, 2], [1, 1]], 'result': 2}, {'move': [[2, 3], [2, 2], [2, 1], [1, 1], [1, 2], [3, 3]], 'result': 2}, {'move': [[1, 3], [2, 2], [2, 1], [1, 1], [3, 2], [3, 3]], 'result': 2}, {'move': [[1, 1], [1, 3], [2, 2], [3, 1], [3, 3]], 'result': 1}, {'move': [[1, 2], [3, 3], [2, 2], [2, 3], [1, 3], [1, 1], [3, 1]], 'result': 1}, {'move': [[2, 1], [3, 3], [2, 2], [1, 2], [2, 3]], 'result': 1}, {'move': [[3, 1], [3, 2], [2, 2], [1, 1], [3, 1]], 'result': 1}, {'move': [[3, 2], [2, 1], [3, 1], [2, 3], [3, 3]], 'result': 1}, {'move': [[1, 1], [1, 3], [3, 1], [2, 2], [3, 3], [2, 1], [3, 2]], 'result': 1}]\n"
     ]
    }
   ],
   "source": [
    "data = []\n",
    "with open('./data.json', 'r', 10000, 'utf-8') as f:\n",
    "    data = json.load(f)\n",
    "    print(data)"
   ]
  },
  {
   "cell_type": "code",
   "execution_count": 15,
   "id": "d140eb2f-0b22-4817-9a38-3ff09118eb31",
   "metadata": {},
   "outputs": [
    {
     "name": "stdout",
     "output_type": "stream",
     "text": [
      "63.63636363636363\n"
     ]
    }
   ],
   "source": [
    "print(len([x for x in data if x['result']==1]) / len(data) * 100)"
   ]
  },
  {
   "cell_type": "code",
   "execution_count": 16,
   "id": "374566d3-1a45-4666-8c31-aed5a711bd6f",
   "metadata": {},
   "outputs": [
    {
     "name": "stdout",
     "output_type": "stream",
     "text": [
      "[{'move': [[3, 1], [2, 2], [3, 2], [3, 3], [1, 2], [1, 1]], 'result': 2}, {'move': [[3, 1], [3, 2], [2, 2], [1, 1], [3, 1]], 'result': 1}]\n"
     ]
    }
   ],
   "source": [
    "print([x for x in data if x['move'][0]==[3,1]])"
   ]
  },
  {
   "cell_type": "code",
   "execution_count": 22,
   "id": "f1d9d45e-e240-48f3-b86f-2a63e0ec6bca",
   "metadata": {},
   "outputs": [
    {
     "name": "stdout",
     "output_type": "stream",
     "text": [
      "[{'move': [[3, 1], [3, 2], [2, 2], [1, 1], [3, 1]], 'result': 1}]\n",
      "50.0\n"
     ]
    }
   ],
   "source": [
    "pattern = [x for x in data if x['move'][0]==[3,1]]\n",
    "candidate = [x for x in pattern if (x['move'][1]==[3,2] and x['result']==1)]\n",
    "print(candidate)\n",
    "print(len(candidate) / len(pattern) * 100)"
   ]
  },
  {
   "cell_type": "code",
   "execution_count": 23,
   "id": "e8b8682e-515d-4466-b32b-ab8506ba41d3",
   "metadata": {},
   "outputs": [
    {
     "name": "stdout",
     "output_type": "stream",
     "text": [
      "[{'move': [[3, 1], [3, 2], [2, 2], [1, 1], [3, 1]], 'result': 1}]\n",
      "50.0\n"
     ]
    }
   ],
   "source": [
    "possibility = [x for x in candidate if (x['move'][2]==[2,2] and x['result']==1)]\n",
    "print(possibility)\n",
    "print(len(possibility) / len(pattern) * 100)"
   ]
  }
 ],
 "metadata": {
  "kernelspec": {
   "display_name": "Python 3 (ipykernel)",
   "language": "python",
   "name": "python3"
  },
  "language_info": {
   "codemirror_mode": {
    "name": "ipython",
    "version": 3
   },
   "file_extension": ".py",
   "mimetype": "text/x-python",
   "name": "python",
   "nbconvert_exporter": "python",
   "pygments_lexer": "ipython3",
   "version": "3.9.1"
  }
 },
 "nbformat": 4,
 "nbformat_minor": 5
}
