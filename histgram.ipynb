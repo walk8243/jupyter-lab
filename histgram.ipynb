{
 "cells": [
  {
   "cell_type": "code",
   "execution_count": 1,
   "id": "c0ac4242-4b87-4370-852e-0496bdd4d777",
   "metadata": {},
   "outputs": [],
   "source": [
    "import numpy as np\n",
    "import matplotlib.pyplot as plt"
   ]
  },
  {
   "cell_type": "code",
   "execution_count": 2,
   "id": "242b2954-ea66-4412-a377-e2c448406e8f",
   "metadata": {},
   "outputs": [],
   "source": [
    "data = np.random.normal(10, 10, 1000)"
   ]
  },
  {
   "cell_type": "code",
   "execution_count": 3,
   "id": "24097da4-7ba9-41f8-8700-ca9a3620ffcb",
   "metadata": {},
   "outputs": [
    {
     "data": {
      "text/plain": [
       "(array([  7.,  11.,  49., 124., 193., 251., 213., 101.,  41.,  10.]),\n",
       " array([-22.88561798, -16.89249582, -10.89937365,  -4.90625148,\n",
       "          1.08687068,   7.07999285,  13.07311501,  19.06623718,\n",
       "         25.05935935,  31.05248151,  37.04560368]),\n",
       " <BarContainer object of 10 artists>)"
      ]
     },
     "execution_count": 3,
     "metadata": {},
     "output_type": "execute_result"
    },
    {
     "data": {
      "image/png": "[encoded data removed]",
      "text/plain": [
       "<Figure size 432x288 with 1 Axes>"
      ]
     },
     "metadata": {
      "needs_background": "light"
     },
     "output_type": "display_data"
    }
   ],
   "source": [
    "plt.hist(data)"
   ]
  },
  {
   "cell_type": "code",
   "execution_count": null,
   "id": "d2c9aa01-752d-48eb-822f-7ba2298ef2c1",
   "metadata": {},
   "outputs": [],
   "source": []
  }
 ],
 "metadata": {
  "kernelspec": {
   "display_name": "Python 3 (ipykernel)",
   "language": "python",
   "name": "python3"
  },
  "language_info": {
   "codemirror_mode": {
    "name": "ipython",
    "version": 3
   },
   "file_extension": ".py",
   "mimetype": "text/x-python",
   "name": "python",
   "nbconvert_exporter": "python",
   "pygments_lexer": "ipython3",
   "version": "3.9.1"
  }
 },
 "nbformat": 4,
 "nbformat_minor": 5
}
